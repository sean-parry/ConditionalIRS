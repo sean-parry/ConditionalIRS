{
 "cells": [
  {
   "cell_type": "markdown",
   "metadata": {},
   "source": [
    "# Conditional Importance Resampling\n",
    "\n",
    "* just want ot make a cisr alg that works\n",
    "* also would be good to rerun the graphs from the paper in the future, as apparenlty rob's algorithm in his paper was wrong so i would assume that his code was also wrong so the copied graphs aren't valid"
   ]
  },
  {
   "cell_type": "markdown",
   "metadata": {},
   "source": [
    "* also apparently conda is way quicker than venv so maybe i need to switch to that in the future "
   ]
  },
  {
   "cell_type": "code",
   "execution_count": 12,
   "metadata": {},
   "outputs": [],
   "source": [
    "%%capture\n",
    "%pip install numpy"
   ]
  },
  {
   "cell_type": "code",
   "execution_count": 14,
   "metadata": {},
   "outputs": [
    {
     "name": "stdout",
     "output_type": "stream",
     "text": [
      "[0.   0.25 0.25 0.   0.05 0.   0.   0.   0.   0.45]\n",
      "[0. 1. 0. 0. 0. 0. 0. 0. 0. 1.]\n",
      "['x2', 'x10']\n"
     ]
    }
   ],
   "source": [
    "import numpy as np\n",
    "\n",
    "def get_w_small_and_big(weights):\n",
    "    N = len(weights)\n",
    "    w_small, w_big = np.zeros(N), np.zeros(N)\n",
    "    j = None\n",
    "    for i,w in enumerate(weights):\n",
    "        if w<1/N:\n",
    "            w_small[i] = w\n",
    "        else:\n",
    "            w_big[i] = w\n",
    "            if j==None and w>2/N:\n",
    "                j = i\n",
    "    if j is None:\n",
    "        raise Exception('Conditional importance resampling not possible there exist no weight that satisfys the condition w>2/N')\n",
    "    alpha = (1/N) - sum(w_small)%(1/N)\n",
    "    w_small[i] = alpha\n",
    "    w_big[i] -= alpha\n",
    "    return w_small, w_big\n",
    "\n",
    "#or multinomial resampling i don't really know what the proper name is\n",
    "# or systematic resampling\n",
    "def cdf_calc(norm_w, N_samples):\n",
    "    cdf = [0]\n",
    "    for w in norm_w:\n",
    "        cdf.append(cdf[-1]+N_samples*w)\n",
    "    return np.array(cdf)\n",
    "\n",
    "def ncopies_calc(norm_w, N_samples):\n",
    "    u = np.random.rand(1)[0]\n",
    "    cdf = cdf_calc(norm_w,N_samples)\n",
    "    ncopies = []\n",
    "    for i in range(len(cdf)-1):\n",
    "        ncopies.append(np.ceil(cdf[i+1]-u)-np.ceil(cdf[i]-u))\n",
    "    return np.array(ncopies)\n",
    "\n",
    "def systematic_resampling(samples, norm_w, N_samples):\n",
    "    ncopies = ncopies_calc(norm_w, N_samples)\n",
    "    print(ncopies)\n",
    "    new_samples = []\n",
    "    for i,n in enumerate(ncopies):\n",
    "        new_samples += [samples[i]]*int(n)\n",
    "    print(new_samples)\n",
    "    return new_samples\n",
    "\n",
    "\n",
    "def normalise_weights(weights):\n",
    "    return  weights/sum(weights)\n",
    "\n",
    "def conditional_importance_resampling(weights):\n",
    "    new_samples, new_weights = [], []\n",
    "    get_w_small_and_big(weights)\n",
    "    return new_samples, new_weights\n",
    "\n",
    "\n",
    "def test_case():\n",
    "    weights = [0,0.05,0.05,0.21,0.01,0.1,0.1,0.36, 0.12, 0]\n",
    "    samples = [f'x{i}' for i in range(1,11)]\n",
    "    N = len(weights)\n",
    "\n",
    "    w_small, w_big = get_w_small_and_big(weights)\n",
    "    print(normalise_weights(w_small))\n",
    "    N_small = N*sum(w_small)\n",
    "    N_big = N-N_small\n",
    "    x_small_samples = systematic_resampling(samples, \n",
    "                                            normalise_weights(w_small), \n",
    "                                            N_small)\n",
    "    w_small_weights = [1/N]*len(x_small_samples)\n",
    "\n",
    "    \n",
    "\n",
    "    \n",
    "def main():\n",
    "    test_case()\n",
    "\n",
    "main()\n"
   ]
  },
  {
   "cell_type": "code",
   "execution_count": 23,
   "metadata": {},
   "outputs": [
    {
     "name": "stdout",
     "output_type": "stream",
     "text": [
      "1\n"
     ]
    }
   ],
   "source": [
    "print(5%4)"
   ]
  }
 ],
 "metadata": {
  "kernelspec": {
   "display_name": ".venv",
   "language": "python",
   "name": "python3"
  },
  "language_info": {
   "codemirror_mode": {
    "name": "ipython",
    "version": 3
   },
   "file_extension": ".py",
   "mimetype": "text/x-python",
   "name": "python",
   "nbconvert_exporter": "python",
   "pygments_lexer": "ipython3",
   "version": "3.12.3"
  }
 },
 "nbformat": 4,
 "nbformat_minor": 2
}
